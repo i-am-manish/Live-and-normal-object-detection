{
 "cells": [
  {
   "cell_type": "code",
   "execution_count": 1,
   "metadata": {},
   "outputs": [
    {
     "name": "stderr",
     "output_type": "stream",
     "text": [
      "c:\\users\\dell\\appdata\\local\\programs\\python\\python36\\lib\\site-packages\\h5py\\__init__.py:36: FutureWarning: Conversion of the second argument of issubdtype from `float` to `np.floating` is deprecated. In future, it will be treated as `np.float64 == np.dtype(float).type`.\n",
      "  from ._conv import register_converters as _register_converters\n",
      "Using TensorFlow backend.\n"
     ]
    }
   ],
   "source": [
    "import tensorflow as tf\n",
    "from keras.applications import imagenet_utils\n",
    "from keras.applications import VGG16\n",
    "from keras.applications import ResNet50\n",
    "import cv2, threading\n",
    "import numpy as np\n",
    "\n",
    "# Initialize global variables to be used by the classification thread\n",
    "# and load up the network and save it as a tensorflow graph\n",
    "frame_to_predict = None\n",
    "classification = True\n",
    "label = ''\n",
    "score = .0\n",
    "\n",
    "#model = VGG16(weights='imagenet')\n",
    "model = ResNet50(weights='D:/Datasets & models/resnet50_weights_tf_dim_ordering_tf_kernels.h5')\n",
    "graph = tf.get_default_graph()\n",
    "\n",
    "    "
   ]
  },
  {
   "cell_type": "code",
   "execution_count": 2,
   "metadata": {},
   "outputs": [],
   "source": [
    "class MyThread(threading.Thread):\n",
    "    def __init__(self):\n",
    "        threading.Thread.__init__(self)\n",
    "        \n",
    "    def run(self):\n",
    "        global label\n",
    "        global frame_to_predict\n",
    "        global classification\n",
    "        global model\n",
    "        global graph\n",
    "        global score\n",
    "        \n",
    "        with graph.as_default():\n",
    "        \n",
    "            while classification is True: \n",
    "                if frame_to_predict is not None:\n",
    "                    frame_to_predict = cv2.cvtColor(frame_to_predict, cv2.COLOR_BGR2RGB).astype(np.float32)\n",
    "                    frame_to_predict = frame_to_predict.reshape((1, ) + frame_to_predict.shape)\n",
    "                    frame_to_predict = imagenet_utils.preprocess_input(frame_to_predict)\n",
    "                    predictions = model.predict(frame_to_predict)\n",
    "                    (imageID, label, score) = imagenet_utils.decode_predictions(predictions)[0][0]"
   ]
  },
  {
   "cell_type": "code",
   "execution_count": 3,
   "metadata": {},
   "outputs": [],
   "source": [
    "# Start a keras thread which will classify the frame returned by openCV\n",
    "keras_thread = MyThread()\n",
    "keras_thread.start()"
   ]
  },
  {
   "cell_type": "code",
   "execution_count": 4,
   "metadata": {},
   "outputs": [],
   "source": [
    "# Initialize OpenCV video captue\n",
    "video_capture = cv2.VideoCapture(0) # Set to 1 for front camera\n",
    "video_capture.set(4, 800) # Width\n",
    "video_capture.set(5, 600) # Height\n",
    "\n",
    "# Start the video capture loop\n",
    "while (True):\n",
    "    \n",
    "    # Get the original frame from video capture\n",
    "    ret, original_frame = video_capture.read()\n",
    "    # Resize the frame to fit the imageNet default input size\n",
    "    frame_to_predict = cv2.resize(original_frame, (224, 224))\n",
    "    \n",
    "    # Add text label and network score to the video captue\n",
    "    cv2.putText(original_frame, \"Label: %s | Score: %.2f\" % (label, score), \n",
    "                (10, 30), cv2.FONT_HERSHEY_SIMPLEX, 0.9, (0, 255, 0), 2)\n",
    "    # Display the video\n",
    "    cv2.imshow(\"Classification\", original_frame)\n",
    "\n",
    "    # Hit q or esc key to exit\n",
    "    if (cv2.waitKey(1) & 0xFF == ord('q')):\n",
    "        break;\n",
    "classification = False\n",
    "video_capture.release()\n",
    "cv2.destroyAllWindows()     "
   ]
  },
  {
   "cell_type": "code",
   "execution_count": null,
   "metadata": {},
   "outputs": [],
   "source": []
  }
 ],
 "metadata": {
  "kernelspec": {
   "display_name": "Python 3",
   "language": "python",
   "name": "python3"
  },
  "language_info": {
   "codemirror_mode": {
    "name": "ipython",
    "version": 3
   },
   "file_extension": ".py",
   "mimetype": "text/x-python",
   "name": "python",
   "nbconvert_exporter": "python",
   "pygments_lexer": "ipython3",
   "version": "3.6.4"
  }
 },
 "nbformat": 4,
 "nbformat_minor": 2
}
