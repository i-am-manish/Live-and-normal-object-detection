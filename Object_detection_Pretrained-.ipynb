{
 "cells": [
  {
   "cell_type": "code",
   "execution_count": 1,
   "metadata": {
    "_cell_guid": "b1076dfc-b9ad-4769-8c92-a6c4dae69d19",
    "_uuid": "8f2839f25d086af736a60e9eeb907d3b93b6e0e5"
   },
   "outputs": [
    {
     "name": "stderr",
     "output_type": "stream",
     "text": [
      "c:\\users\\dell\\appdata\\local\\programs\\python\\python36\\lib\\site-packages\\h5py\\__init__.py:36: FutureWarning: Conversion of the second argument of issubdtype from `float` to `np.floating` is deprecated. In future, it will be treated as `np.float64 == np.dtype(float).type`.\n",
      "  from ._conv import register_converters as _register_converters\n",
      "Using TensorFlow backend.\n"
     ]
    }
   ],
   "source": [
    "from keras.applications import ResNet50\n",
    "model = ResNet50(weights=\"D:/Datasets & models/resnet50_weights_tf_dim_ordering_tf_kernels.h5\")"
   ]
  },
  {
   "cell_type": "code",
   "execution_count": 2,
   "metadata": {
    "_cell_guid": "79c7e3d0-c299-4dcb-8224-4455121ee9b0",
    "_uuid": "d629ff2d2480ee46fbb7e2d37f6b5fab8052498a"
   },
   "outputs": [
    {
     "name": "stdout",
     "output_type": "stream",
     "text": [
      "<class 'numpy.ndarray'>\n",
      "(224, 224, 3)\n"
     ]
    },
    {
     "data": {
      "text/plain": [
       "(1, 224, 224, 3)"
      ]
     },
     "execution_count": 2,
     "metadata": {},
     "output_type": "execute_result"
    }
   ],
   "source": [
    "from keras.preprocessing import image\n",
    "import matplotlib.pyplot as plt\n",
    "import numpy as np\n",
    "img_path = \"C:/Users/Dell/Downloads/data/test_data/14.jpg\"\n",
    "img = image.load_img(img_path, target_size=(224, 224))\n",
    "x = image.img_to_array(img) #img to np array\n",
    "print(type(x))\n",
    "print(x.shape)\n",
    "plt.imshow(img)\n",
    "\n",
    "from keras.applications.vgg16 import preprocess_input,decode_predictions\n",
    "img=preprocess_input(x)\n",
    "img=np.expand_dims(img,axis=0)\n",
    "img.shape\n"
   ]
  },
  {
   "cell_type": "code",
   "execution_count": 3,
   "metadata": {
    "_uuid": "9cbf6548a717c66671066d6897061ef020789cf7"
   },
   "outputs": [
    {
     "data": {
      "text/plain": [
       "[[('n04120489', 'running_shoe', 0.9770946),\n",
       "  ('n03047690', 'clog', 0.008620535),\n",
       "  ('n03680355', 'Loafer', 0.0047828597),\n",
       "  ('n04133789', 'sandal', 0.0020131283),\n",
       "  ('n04254777', 'sock', 0.0018202193)]]"
      ]
     },
     "execution_count": 3,
     "metadata": {},
     "output_type": "execute_result"
    }
   ],
   "source": [
    "preds = model.predict(img)\n",
    "p= decode_predictions(preds)\n",
    "p"
   ]
  },
  {
   "cell_type": "code",
   "execution_count": 9,
   "metadata": {
    "_uuid": "ff3a87dd81d3e9d63e1ae0e77c9ebc5903979d5c"
   },
   "outputs": [],
   "source": [
    "import cv2\n",
    "while (True):\n",
    "    origin=cv2.imread(img_path)\n",
    "\n",
    "    cv2.putText(origin, \"Predict: {}\".format(p), (10, 20), cv2.FONT_HERSHEY_SIMPLEX, 0.9, (0, 255, 0), 2)\n",
    "    # Display\n",
    "    cv2.imshow(\"RESULT\", origin)\n",
    "\n",
    "    # Hit q or esc key to exit\n",
    "    if (cv2.waitKey(1) & 0xFF == ord('q')):\n",
    "        break;\n",
    "cv2.destroyAllWindows()"
   ]
  },
  {
   "cell_type": "code",
   "execution_count": null,
   "metadata": {},
   "outputs": [],
   "source": []
  },
  {
   "cell_type": "code",
   "execution_count": null,
   "metadata": {},
   "outputs": [],
   "source": []
  }
 ],
 "metadata": {
  "kernelspec": {
   "display_name": "Python 3",
   "language": "python",
   "name": "python3"
  },
  "language_info": {
   "codemirror_mode": {
    "name": "ipython",
    "version": 3
   },
   "file_extension": ".py",
   "mimetype": "text/x-python",
   "name": "python",
   "nbconvert_exporter": "python",
   "pygments_lexer": "ipython3",
   "version": "3.6.4"
  }
 },
 "nbformat": 4,
 "nbformat_minor": 1
}
